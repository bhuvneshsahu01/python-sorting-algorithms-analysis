{
 "cells": [
  {
   "cell_type": "code",
   "execution_count": 121,
   "id": "edf2bc4e",
   "metadata": {},
   "outputs": [],
   "source": [
    "import numpy as np\n",
    "import time \n",
    "import random"
   ]
  },
  {
   "cell_type": "markdown",
   "id": "856bf736",
   "metadata": {},
   "source": [
    "# Selection sort"
   ]
  },
  {
   "cell_type": "code",
   "execution_count": 144,
   "id": "615f032c",
   "metadata": {},
   "outputs": [],
   "source": [
    "def Ssort(l,cutoff=None):\n",
    "    n=len(l)\n",
    "    for i in range(n):\n",
    "        temp=l[i]\n",
    "        j=i\n",
    "        idx=i\n",
    "        while (j<n):\n",
    "            if l[j]<temp:\n",
    "                temp=l[j]\n",
    "                idx=j\n",
    "            j+=1\n",
    "        if idx==i:\n",
    "            pass\n",
    "        else:\n",
    "            tem=l[i]\n",
    "            l[i]=l[idx]\n",
    "            l[idx]=tem\n",
    "    return l      "
   ]
  },
  {
   "cell_type": "markdown",
   "id": "b0432822",
   "metadata": {},
   "source": [
    "# Insertion Sort"
   ]
  },
  {
   "cell_type": "code",
   "execution_count": 3,
   "id": "245095f0",
   "metadata": {},
   "outputs": [],
   "source": [
    "def insert(l,v):\n",
    "    if len(l)==0:\n",
    "        return [v]\n",
    "    elif v>=l[-1]:\n",
    "        return l+[v]\n",
    "    else :\n",
    "        return insert(l[:-1],v)+[l[-1]]\n",
    "def Isort(l):\n",
    "    if len(l)==1:\n",
    "        return l\n",
    "    else:\n",
    "        return insert(Isort(l[:-1]),l[-1])  "
   ]
  },
  {
   "cell_type": "code",
   "execution_count": 169,
   "id": "aeb85e2f",
   "metadata": {},
   "outputs": [],
   "source": [
    "def Insort(l,cutoff=None):\n",
    "    for i in range(len(l)):\n",
    "        if l[i]>l[i-1]:\n",
    "            pass\n",
    "        else:\n",
    "            j=i\n",
    "            while (j>0 and l[j]<l[j-1]):\n",
    "                (l[j],l[j-1])=(l[j-1],l[j])\n",
    "                j-=1\n",
    "    return l      "
   ]
  },
  {
   "cell_type": "markdown",
   "id": "25d3798e",
   "metadata": {},
   "source": [
    "# Merge sort"
   ]
  },
  {
   "cell_type": "code",
   "execution_count": 256,
   "id": "5ceb1083",
   "metadata": {},
   "outputs": [],
   "source": [
    "def Msort(A):\n",
    "    n = len(A)\n",
    "    if n <= 1:\n",
    "        return(A)\n",
    "    L = Msort(A[:n//2])\n",
    "    R = Msort(A[n//2:])\n",
    "    B = merge(L,R)\n",
    "    return(B)\n",
    "\n",
    "def merge(A,B):\n",
    "      (m,n) = (len(A),len(B))\n",
    "      (C,i,j,k) = ([],0,0,0)\n",
    "      while k < m+n:\n",
    "        if i == m:\n",
    "          C.extend(B[j:])\n",
    "          k = k + (n-j)\n",
    "        elif j == n:\n",
    "          C.extend(A[i:])\n",
    "          k = k + (n-i)\n",
    "        elif A[i] < B[j]:\n",
    "          C.append(A[i])\n",
    "          (i,k) = (i+1,k+1)\n",
    "        else:\n",
    "          C.append(B[j])\n",
    "          (j,k) = (j+1,k+1)\n",
    "      return(C)"
   ]
  },
  {
   "cell_type": "markdown",
   "id": "01f7bb52",
   "metadata": {},
   "source": [
    "# Hybrid Merge sort"
   ]
  },
  {
   "cell_type": "code",
   "execution_count": 267,
   "id": "ec490dde",
   "metadata": {},
   "outputs": [],
   "source": [
    "def HMsort(l,cutoff):\n",
    "    n=len(l)\n",
    "    if n<=1:\n",
    "        return l\n",
    "    if n<cutoff:\n",
    "        return Insort(l)\n",
    "    l1=HMsort(l[:n//2],cutoff)\n",
    "    l2=HMsort(l[n//2:],cutoff)\n",
    "    return merge(l1,l2)\n"
   ]
  },
  {
   "cell_type": "markdown",
   "id": "358cf42d",
   "metadata": {},
   "source": [
    "# Quick Sort"
   ]
  },
  {
   "cell_type": "code",
   "execution_count": 7,
   "id": "9f6f59e1",
   "metadata": {},
   "outputs": [],
   "source": [
    "def QSort(x,l,r):\n",
    "    if r-l<=1:\n",
    "        return x\n",
    "    p=x[l]\n",
    "    lower=l+1\n",
    "    upper=l+1\n",
    "    for i in range(l+1,r):\n",
    "        if x[i]>=p:\n",
    "            upper+=1\n",
    "        else:\n",
    "            (x[i], x[lower]) = (x[lower], x[i])\n",
    "            (lower,upper) = (lower+1,upper+1)\n",
    "    (x[l],x[lower-1]) = (x[lower-1],x[l])\n",
    "    lower = lower-1    \n",
    "    QSort(x,l,lower)\n",
    "    QSort(x,lower+1,upper)\n",
    "    return(x)"
   ]
  },
  {
   "cell_type": "markdown",
   "id": "09c33a4c",
   "metadata": {},
   "source": [
    "# Hybrid Quick sort"
   ]
  },
  {
   "cell_type": "code",
   "execution_count": 269,
   "id": "6976a782",
   "metadata": {},
   "outputs": [],
   "source": [
    "def HQsort(x,l,r,cutoff):\n",
    "    if r-l<=1:\n",
    "        return x\n",
    "    if r-l<=cutoff:\n",
    "        x[l:r] = Insort(x[l:r])\n",
    "        return x\n",
    "    p=x[l]\n",
    "    lower=l+1\n",
    "    upper=l+1\n",
    "    for i in range(l+1,r):\n",
    "        if x[i]>=p:\n",
    "            upper+=1\n",
    "        else:\n",
    "            (x[i], x[lower]) = (x[lower], x[i])\n",
    "            (lower,upper) = (lower+1,upper+1)\n",
    "    (x[l],x[lower-1]) = (x[lower-1],x[l])\n",
    "    lower = lower-1    \n",
    "    HQsort(x,l,lower,cutoff)\n",
    "    HQsort(x,lower+1,upper,cutoff)\n",
    "    return(x)"
   ]
  },
  {
   "cell_type": "code",
   "execution_count": 229,
   "id": "3c940543",
   "metadata": {},
   "outputs": [],
   "source": [
    "def sort_analysis(sorting_algo,K,N,M,cutoff=None):\n",
    "    if sorting_algo==HQsort:\n",
    "        final=[]\n",
    "        for i in range(M):\n",
    "            time1=[]\n",
    "            for x in range(i*K,(i+1)*K):\n",
    "                np.random.seed(x)\n",
    "                s=time.time()\n",
    "                HQsort(list(random.randint(1,10000) for _ in range(N)),0,N,cutoff)\n",
    "                e=time.time()\n",
    "                time1.append(round((e-s),4))\n",
    "            print((f\"mean={round(np.mean(time1),4)},std={round(np.std(time1),4)}\"))\n",
    "            final.append(tuple((round(np.mean(time1),4),round(np.std(time1),4))))\n",
    "        return final\n",
    "            \n",
    "    else:\n",
    "        final=[]\n",
    "        for i in range(M):\n",
    "            time1=[]\n",
    "            for x in range(i*K,(i+1)*K):\n",
    "                np.random.seed(x)\n",
    "                s=time.time()\n",
    "                sorting_algo(list(random.randint(1,10000) for _ in range(N)),cutoff)\n",
    "                e=time.time()\n",
    "                time1.append(round((e-s),4))\n",
    "            print((f\"mean={round(np.mean(time1),4)},std={round(np.std(time1),4)}\"))\n",
    "            final.append(tuple((round(np.mean(time1),4),round(np.std(time1),4))))\n",
    "        return final\n",
    "        \n",
    "    "
   ]
  },
  {
   "cell_type": "code",
   "execution_count": 235,
   "id": "d6ab7141",
   "metadata": {},
   "outputs": [
    {
     "name": "stdout",
     "output_type": "stream",
     "text": [
      "mean=0.5218,std=0.0129\n",
      "mean=0.5152,std=0.0098\n",
      "mean=0.5176,std=0.012\n",
      "mean=0.5157,std=0.0089\n",
      "mean=0.5158,std=0.0088\n"
     ]
    },
    {
     "data": {
      "text/plain": [
       "[(0.5218, 0.0129),\n",
       " (0.5152, 0.0098),\n",
       " (0.5176, 0.012),\n",
       " (0.5157, 0.0089),\n",
       " (0.5158, 0.0088)]"
      ]
     },
     "execution_count": 235,
     "metadata": {},
     "output_type": "execute_result"
    }
   ],
   "source": [
    "sort_analysis(Ssort,K=100,N=5000,M=5)"
   ]
  },
  {
   "cell_type": "code",
   "execution_count": 236,
   "id": "682722b5",
   "metadata": {},
   "outputs": [
    {
     "name": "stdout",
     "output_type": "stream",
     "text": [
      "mean=0.7122,std=0.0506\n",
      "mean=0.7319,std=0.0619\n",
      "mean=0.7209,std=0.0252\n",
      "mean=0.702,std=0.017\n",
      "mean=0.7079,std=0.0239\n"
     ]
    },
    {
     "data": {
      "text/plain": [
       "[(0.7122, 0.0506),\n",
       " (0.7319, 0.0619),\n",
       " (0.7209, 0.0252),\n",
       " (0.702, 0.017),\n",
       " (0.7079, 0.0239)]"
      ]
     },
     "execution_count": 236,
     "metadata": {},
     "output_type": "execute_result"
    }
   ],
   "source": [
    "sort_analysis(Insort,K=100,N=5000,M=5)"
   ]
  },
  {
   "cell_type": "code",
   "execution_count": 259,
   "id": "82e76e5d",
   "metadata": {},
   "outputs": [
    {
     "name": "stdout",
     "output_type": "stream",
     "text": [
      "mean=0.1874,std=0.0087\n",
      "mean=0.1914,std=0.0101\n",
      "mean=0.1917,std=0.0111\n",
      "mean=0.1883,std=0.0105\n",
      "mean=0.1902,std=0.0098\n"
     ]
    },
    {
     "data": {
      "text/plain": [
       "[(0.1874, 0.0087),\n",
       " (0.1914, 0.0101),\n",
       " (0.1917, 0.0111),\n",
       " (0.1883, 0.0105),\n",
       " (0.1902, 0.0098)]"
      ]
     },
     "execution_count": 259,
     "metadata": {},
     "output_type": "execute_result"
    }
   ],
   "source": [
    "sort_analysis(HMsort,K=100,N=50000,M=5,cutoff=100)"
   ]
  },
  {
   "cell_type": "code",
   "execution_count": 260,
   "id": "d2ecaa73",
   "metadata": {},
   "outputs": [
    {
     "name": "stdout",
     "output_type": "stream",
     "text": [
      "mean=0.141,std=0.0055\n",
      "mean=0.1425,std=0.0063\n",
      "mean=0.1406,std=0.0056\n",
      "mean=0.141,std=0.0056\n",
      "mean=0.1405,std=0.0067\n"
     ]
    },
    {
     "data": {
      "text/plain": [
       "[(0.141, 0.0055),\n",
       " (0.1425, 0.0063),\n",
       " (0.1406, 0.0056),\n",
       " (0.141, 0.0056),\n",
       " (0.1405, 0.0067)]"
      ]
     },
     "execution_count": 260,
     "metadata": {},
     "output_type": "execute_result"
    }
   ],
   "source": [
    "sort_analysis(HMsort,K=100,N=50000,M=5,cutoff=60)"
   ]
  },
  {
   "cell_type": "code",
   "execution_count": 261,
   "id": "5e1a9b5e",
   "metadata": {},
   "outputs": [
    {
     "name": "stdout",
     "output_type": "stream",
     "text": [
      "mean=0.1212,std=0.0065\n",
      "mean=0.1213,std=0.0065\n",
      "mean=0.1214,std=0.0065\n",
      "mean=0.1206,std=0.0067\n",
      "mean=0.1214,std=0.0074\n"
     ]
    },
    {
     "data": {
      "text/plain": [
       "[(0.1212, 0.0065),\n",
       " (0.1213, 0.0065),\n",
       " (0.1214, 0.0065),\n",
       " (0.1206, 0.0067),\n",
       " (0.1214, 0.0074)]"
      ]
     },
     "execution_count": 261,
     "metadata": {},
     "output_type": "execute_result"
    }
   ],
   "source": [
    "sort_analysis(HMsort,K=100,N=50000,M=5,cutoff=45)"
   ]
  },
  {
   "cell_type": "code",
   "execution_count": 263,
   "id": "c3258b55",
   "metadata": {},
   "outputs": [
    {
     "name": "stdout",
     "output_type": "stream",
     "text": [
      "mean=0.1162,std=0.0079\n",
      "mean=0.1198,std=0.0081\n",
      "mean=0.1174,std=0.0092\n",
      "mean=0.122,std=0.0104\n",
      "mean=0.1201,std=0.009\n"
     ]
    },
    {
     "data": {
      "text/plain": [
       "[(0.1162, 0.0079),\n",
       " (0.1198, 0.0081),\n",
       " (0.1174, 0.0092),\n",
       " (0.122, 0.0104),\n",
       " (0.1201, 0.009)]"
      ]
     },
     "execution_count": 263,
     "metadata": {},
     "output_type": "execute_result"
    }
   ],
   "source": [
    "sort_analysis(HMsort,K=100,N=50000,M=5,cutoff=20)"
   ]
  },
  {
   "cell_type": "code",
   "execution_count": 264,
   "id": "9a958984",
   "metadata": {},
   "outputs": [
    {
     "name": "stdout",
     "output_type": "stream",
     "text": [
      "mean=0.1186,std=0.0086\n",
      "mean=0.1159,std=0.0076\n",
      "mean=0.1189,std=0.0074\n",
      "mean=0.1176,std=0.0079\n",
      "mean=0.1155,std=0.0076\n"
     ]
    },
    {
     "data": {
      "text/plain": [
       "[(0.1186, 0.0086),\n",
       " (0.1159, 0.0076),\n",
       " (0.1189, 0.0074),\n",
       " (0.1176, 0.0079),\n",
       " (0.1155, 0.0076)]"
      ]
     },
     "execution_count": 264,
     "metadata": {},
     "output_type": "execute_result"
    }
   ],
   "source": [
    "sort_analysis(HMsort,K=100,N=50000,M=5,cutoff=10)"
   ]
  },
  {
   "cell_type": "code",
   "execution_count": 268,
   "id": "57d7f226",
   "metadata": {},
   "outputs": [
    {
     "name": "stdout",
     "output_type": "stream",
     "text": [
      "mean=0.1464,std=0.0075\n",
      "mean=0.1513,std=0.0093\n",
      "mean=0.1501,std=0.0087\n",
      "mean=0.1509,std=0.0091\n",
      "mean=0.1512,std=0.0093\n"
     ]
    },
    {
     "data": {
      "text/plain": [
       "[(0.1464, 0.0075),\n",
       " (0.1513, 0.0093),\n",
       " (0.1501, 0.0087),\n",
       " (0.1509, 0.0091),\n",
       " (0.1512, 0.0093)]"
      ]
     },
     "execution_count": 268,
     "metadata": {},
     "output_type": "execute_result"
    }
   ],
   "source": [
    "sort_analysis(HMsort,K=100,N=50000,M=5,cutoff=1)"
   ]
  },
  {
   "cell_type": "code",
   "execution_count": 251,
   "id": "9a411fab",
   "metadata": {},
   "outputs": [
    {
     "name": "stdout",
     "output_type": "stream",
     "text": [
      "mean=0.1399,std=0.0061\n",
      "mean=0.1397,std=0.0069\n",
      "mean=0.1419,std=0.0072\n",
      "mean=0.14,std=0.0058\n",
      "mean=0.1394,std=0.0066\n"
     ]
    },
    {
     "data": {
      "text/plain": [
       "[(0.1399, 0.0061),\n",
       " (0.1397, 0.0069),\n",
       " (0.1419, 0.0072),\n",
       " (0.14, 0.0058),\n",
       " (0.1394, 0.0066)]"
      ]
     },
     "execution_count": 251,
     "metadata": {},
     "output_type": "execute_result"
    }
   ],
   "source": [
    "sort_analysis(HQsort,K=100,N=50000,M=5,cutoff=100)"
   ]
  },
  {
   "cell_type": "code",
   "execution_count": 252,
   "id": "18043d98",
   "metadata": {},
   "outputs": [
    {
     "name": "stdout",
     "output_type": "stream",
     "text": [
      "mean=0.1181,std=0.01\n",
      "mean=0.1182,std=0.0078\n",
      "mean=0.1167,std=0.0081\n",
      "mean=0.1201,std=0.01\n",
      "mean=0.1213,std=0.0099\n"
     ]
    },
    {
     "data": {
      "text/plain": [
       "[(0.1181, 0.01),\n",
       " (0.1182, 0.0078),\n",
       " (0.1167, 0.0081),\n",
       " (0.1201, 0.01),\n",
       " (0.1213, 0.0099)]"
      ]
     },
     "execution_count": 252,
     "metadata": {},
     "output_type": "execute_result"
    }
   ],
   "source": [
    "sort_analysis(HQsort,K=100,N=50000,M=5,cutoff=60)"
   ]
  },
  {
   "cell_type": "code",
   "execution_count": 253,
   "id": "b18a585f",
   "metadata": {},
   "outputs": [
    {
     "name": "stdout",
     "output_type": "stream",
     "text": [
      "mean=0.1066,std=0.0077\n",
      "mean=0.1114,std=0.0097\n",
      "mean=0.1106,std=0.0118\n",
      "mean=0.1092,std=0.0082\n",
      "mean=0.1115,std=0.0086\n"
     ]
    },
    {
     "data": {
      "text/plain": [
       "[(0.1066, 0.0077),\n",
       " (0.1114, 0.0097),\n",
       " (0.1106, 0.0118),\n",
       " (0.1092, 0.0082),\n",
       " (0.1115, 0.0086)]"
      ]
     },
     "execution_count": 253,
     "metadata": {},
     "output_type": "execute_result"
    }
   ],
   "source": [
    "sort_analysis(HQsort,K=100,N=50000,M=5,cutoff=40)"
   ]
  },
  {
   "cell_type": "code",
   "execution_count": 254,
   "id": "7d8270db",
   "metadata": {},
   "outputs": [
    {
     "name": "stdout",
     "output_type": "stream",
     "text": [
      "mean=0.1077,std=0.0099\n",
      "mean=0.1017,std=0.0081\n",
      "mean=0.0988,std=0.0078\n",
      "mean=0.0987,std=0.0073\n",
      "mean=0.0983,std=0.0075\n"
     ]
    },
    {
     "data": {
      "text/plain": [
       "[(0.1077, 0.0099),\n",
       " (0.1017, 0.0081),\n",
       " (0.0988, 0.0078),\n",
       " (0.0987, 0.0073),\n",
       " (0.0983, 0.0075)]"
      ]
     },
     "execution_count": 254,
     "metadata": {},
     "output_type": "execute_result"
    }
   ],
   "source": [
    "sort_analysis(HQsort,K=100,N=50000,M=5,cutoff=20)"
   ]
  },
  {
   "cell_type": "code",
   "execution_count": 255,
   "id": "d930eaa3",
   "metadata": {},
   "outputs": [
    {
     "name": "stdout",
     "output_type": "stream",
     "text": [
      "mean=0.0997,std=0.0076\n",
      "mean=0.0981,std=0.007\n",
      "mean=0.0985,std=0.0072\n",
      "mean=0.0992,std=0.0071\n",
      "mean=0.0985,std=0.0078\n"
     ]
    },
    {
     "data": {
      "text/plain": [
       "[(0.0997, 0.0076),\n",
       " (0.0981, 0.007),\n",
       " (0.0985, 0.0072),\n",
       " (0.0992, 0.0071),\n",
       " (0.0985, 0.0078)]"
      ]
     },
     "execution_count": 255,
     "metadata": {},
     "output_type": "execute_result"
    }
   ],
   "source": [
    "sort_analysis(HQsort,K=100,N=50000,M=5,cutoff=10)"
   ]
  },
  {
   "cell_type": "code",
   "execution_count": 266,
   "id": "c3a9dbf6",
   "metadata": {},
   "outputs": [
    {
     "name": "stdout",
     "output_type": "stream",
     "text": [
      "mean=0.1273,std=0.0083\n",
      "mean=0.1264,std=0.008\n",
      "mean=0.1268,std=0.0099\n",
      "mean=0.124,std=0.0063\n",
      "mean=0.1269,std=0.0083\n"
     ]
    },
    {
     "data": {
      "text/plain": [
       "[(0.1273, 0.0083),\n",
       " (0.1264, 0.008),\n",
       " (0.1268, 0.0099),\n",
       " (0.124, 0.0063),\n",
       " (0.1269, 0.0083)]"
      ]
     },
     "execution_count": 266,
     "metadata": {},
     "output_type": "execute_result"
    }
   ],
   "source": [
    "sort_analysis(HQsort,K=100,N=50000,M=5,cutoff=1)"
   ]
  },
  {
   "cell_type": "markdown",
   "id": "6d36082e",
   "metadata": {},
   "source": [
    "# Observations "
   ]
  },
  {
   "cell_type": "markdown",
   "id": "d858be51",
   "metadata": {},
   "source": [
    "## For the hybrid Merge sort performance id optimum when the cutoff is near 10"
   ]
  },
  {
   "cell_type": "markdown",
   "id": "af5f9424",
   "metadata": {},
   "source": [
    "## For the hybrid Quick sort the performace improves as we decrease the cutoff value"
   ]
  },
  {
   "cell_type": "code",
   "execution_count": null,
   "id": "65c465fb",
   "metadata": {},
   "outputs": [],
   "source": []
  }
 ],
 "metadata": {
  "kernelspec": {
   "display_name": "Python 3 (ipykernel)",
   "language": "python",
   "name": "python3"
  },
  "language_info": {
   "codemirror_mode": {
    "name": "ipython",
    "version": 3
   },
   "file_extension": ".py",
   "mimetype": "text/x-python",
   "name": "python",
   "nbconvert_exporter": "python",
   "pygments_lexer": "ipython3",
   "version": "3.11.4"
  }
 },
 "nbformat": 4,
 "nbformat_minor": 5
}
